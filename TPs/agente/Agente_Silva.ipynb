{
 "cells": [
  {
   "cell_type": "markdown",
   "metadata": {},
   "source": [
    "# Trabajo Práctico 2 - Agentes"
   ]
  },
  {
   "cell_type": "code",
   "execution_count": 2,
   "metadata": {},
   "outputs": [],
   "source": [
    "# Librerías\n",
    "from pinecone import Pinecone, ServerlessSpec\n",
    "from groq import Groq\n",
    "import os\n",
    "from sentence_transformers import SentenceTransformer\n",
    "import torch\n",
    "#from langchain.document_loaders import PyPDFLoader\n",
    "from langchain_community.document_loaders import PyPDFLoader\n",
    "from langchain.text_splitter import CharacterTextSplitter\n",
    "from dotenv import load_dotenv\n",
    "from tqdm.auto import tqdm\n",
    "import re"
   ]
  },
  {
   "cell_type": "code",
   "execution_count": 3,
   "metadata": {},
   "outputs": [
    {
     "name": "stdout",
     "output_type": "stream",
     "text": [
      "\n",
      "Device: mps\n"
     ]
    }
   ],
   "source": [
    "# Selección del device\n",
    "device =  'cuda' if torch.cuda.is_available() else 'mps' if torch.backends.mps.is_available() else 'cpu'\n",
    "print(f\"\\nDevice: {device}\") "
   ]
  },
  {
   "cell_type": "code",
   "execution_count": 4,
   "metadata": {},
   "outputs": [
    {
     "data": {
      "text/plain": [
       "True"
      ]
     },
     "execution_count": 4,
     "metadata": {},
     "output_type": "execute_result"
    }
   ],
   "source": [
    "# Cargar las keys del archivo .env\n",
    "load_dotenv()"
   ]
  },
  {
   "cell_type": "markdown",
   "metadata": {},
   "source": [
    "## Diagrama"
   ]
  },
  {
   "attachments": {
    "image.png": {
     "image/png": "[encoded data removed]"
    }
   },
   "cell_type": "markdown",
   "metadata": {},
   "source": [
    "![image.png](attachment:image.png)"
   ]
  },
  {
   "cell_type": "markdown",
   "metadata": {},
   "source": [
    "## Conversión de CVs a embeddings y cargarlos a Pinecone"
   ]
  },
  {
   "cell_type": "code",
   "execution_count": 5,
   "metadata": {},
   "outputs": [
    {
     "data": {
      "application/vnd.jupyter.widget-view+json": {
       "model_id": "ae6d3feba67246f2b4afb6137826c9f1",
       "version_major": 2,
       "version_minor": 0
      },
      "text/plain": [
       "Batches:   0%|          | 0/1 [00:00<?, ?it/s]"
      ]
     },
     "metadata": {},
     "output_type": "display_data"
    },
    {
     "data": {
      "application/vnd.jupyter.widget-view+json": {
       "model_id": "9f04ef2bbf8241b98cff2064a0a81ec0",
       "version_major": 2,
       "version_minor": 0
      },
      "text/plain": [
       "  0%|          | 0/3 [00:00<?, ?it/s]"
      ]
     },
     "metadata": {},
     "output_type": "display_data"
    },
    {
     "name": "stdout",
     "output_type": "stream",
     "text": [
      "\n",
      "Generados 14 embeddings.\n"
     ]
    },
    {
     "data": {
      "application/vnd.jupyter.widget-view+json": {
       "model_id": "dee4eb3fda444b5591a0603fcf66d2d1",
       "version_major": 2,
       "version_minor": 0
      },
      "text/plain": [
       "Batches:   0%|          | 0/1 [00:00<?, ?it/s]"
      ]
     },
     "metadata": {},
     "output_type": "display_data"
    },
    {
     "data": {
      "application/vnd.jupyter.widget-view+json": {
       "model_id": "0ff564d291df48efbaec8c12b20cf1d0",
       "version_major": 2,
       "version_minor": 0
      },
      "text/plain": [
       "  0%|          | 0/3 [00:00<?, ?it/s]"
      ]
     },
     "metadata": {},
     "output_type": "display_data"
    },
    {
     "name": "stdout",
     "output_type": "stream",
     "text": [
      "\n",
      "Generados 12 embeddings.\n"
     ]
    }
   ],
   "source": [
    "# Configurar clave de API de Pinecone\n",
    "PINECONE_API_KEY = os.getenv(\"pinecone_api_key\")\n",
    "pc = Pinecone(api_key=PINECONE_API_KEY)\n",
    "cloud = os.environ.get('PINECONE_CLOUD') or 'aws'\n",
    "region = os.environ.get('PINECONE_REGION') or 'us-east-1'\n",
    "\n",
    "spec = ServerlessSpec(cloud=cloud, region=region)\n",
    "\n",
    "# Configuración del modelo de embedding\n",
    "embed_model = SentenceTransformer('sentence-transformers/all-MiniLM-L6-v2', device=device)\n",
    "\n",
    "# Lee documentos\n",
    "def read_doc(directory):\n",
    "    \"\"\"\n",
    "    Lee el documento PDF.\n",
    "    \"\"\"\n",
    "    file_loader=PyPDFLoader(directory)\n",
    "    documents = file_loader.load()\n",
    "    return documents\n",
    "\n",
    "# Convierte en chunks el documento\n",
    "def chunk_documents(documents, chunk_size=205, chunk_overlap=45): #75/15\n",
    "    \"\"\"\n",
    "    Crea chunks del documento.\n",
    "    \"\"\"\n",
    "    text_splitter = CharacterTextSplitter(\n",
    "        separator=\" \", # Divide por espacios\n",
    "        chunk_size=chunk_size,\n",
    "        chunk_overlap=chunk_overlap\n",
    "    )\n",
    "    chunks = []\n",
    "    for doc in documents:\n",
    "        # Divide el contenido del texto en fragmentos\n",
    "        for chunk in text_splitter.split_text(doc.page_content): \n",
    "            chunks.append({\n",
    "                \"text\": chunk,\n",
    "                \"metadata\": doc.metadata #  # Mantén la fuente original\n",
    "            })\n",
    "    return chunks\n",
    "\n",
    "# Procesar documentos y generar embeddings\n",
    "def process_docs(documents):\n",
    "    \"\"\"\n",
    "    Procesa el documento.\n",
    "    \"\"\"\n",
    "    texts = [doc['text'] for doc in documents]\n",
    "    embeddings = embed_model.encode(texts, convert_to_tensor=False, show_progress_bar=True)\n",
    "    return texts, embeddings\n",
    "\n",
    "# Función para inicializar un índice en Pinecone\n",
    "def initialize_index(index_name):\n",
    "    \"\"\"\n",
    "    Inicializa el índice.\n",
    "    \"\"\"\n",
    "    if index_name not in pc.list_indexes():\n",
    "        pc.create_index(\n",
    "            name=index_name,\n",
    "            dimension=384,\n",
    "            metric=\"cosine\",\n",
    "            spec=spec\n",
    "        )\n",
    "    return pc.Index(index_name)\n",
    "\n",
    "# Función para subir embeddings a un índice\n",
    "def upload_embeddings_to_index(index, documents):\n",
    "    \"\"\"\n",
    "    Carga los embeddings según el índice\n",
    "    \"\"\"\n",
    "    texts, embeddings = process_docs(documents)\n",
    "    ids = [f\"doc_{i}\" for i in range(len(texts))]\n",
    "    vectors = [{\"id\": doc_id, \"values\": emb, \"metadata\": {\"text\": text}}\n",
    "               for doc_id, emb, text in zip(ids, embeddings, texts)]\n",
    "    \n",
    "    batch_size = 5\n",
    "    for i in tqdm(range(0, len(vectors), batch_size)):\n",
    "        batch = vectors[i:i + batch_size]\n",
    "        index.upsert(vectors=batch)\n",
    "\n",
    "    print(f\"\\nGenerados {len(embeddings)} embeddings.\")\n",
    "\n",
    "# Eliminar índices anteriormente creados\n",
    "pc.delete_index(\"victor-cv\")\n",
    "pc.delete_index(\"jarad-cv\")\n",
    "\n",
    "# Crear índices para cada persona\n",
    "indices = {\n",
    "    \"victor\": initialize_index(\"victor-cv\"),\n",
    "    \"jarad\": initialize_index(\"jarad-cv\")\n",
    "}\n",
    "\n",
    "# Leer y dividir documentos para cada persona\n",
    "cv_victor = read_doc(\"../../data/Silva_Victor_CV.pdf\")\n",
    "cv_jarad = read_doc(\"../../data/Jarad_Vod_Savo_CV.pdf\")\n",
    "\n",
    "# Separar en chunks los documentos\n",
    "chunked_cv_victor = chunk_documents(cv_victor)\n",
    "chunked_cv_jarad = chunk_documents(cv_jarad)\n",
    "\n",
    "# Subir documentos a los índices correspondientes\n",
    "upload_embeddings_to_index(indices[\"victor\"], chunked_cv_victor)\n",
    "upload_embeddings_to_index(indices[\"jarad\"], chunked_cv_jarad)"
   ]
  },
  {
   "cell_type": "markdown",
   "metadata": {},
   "source": [
    "## Creación de Agentes"
   ]
  },
  {
   "cell_type": "code",
   "execution_count": 6,
   "metadata": {},
   "outputs": [],
   "source": [
    "# Configurar Groq\n",
    "GROQ_API_KEY = os.getenv(\"groq_api_key\")\n",
    "groq_client = Groq(api_key=GROQ_API_KEY)\n",
    "\n",
    "def create_prompt(query, pinecone_matches):\n",
    "    \"\"\"\n",
    "    Crea un prompt para Groq utilizando la consulta y los documentos relevantes.\n",
    "    \"\"\"\n",
    "    context = \"\\n\".join([match[\"metadata\"][\"text\"] for match in pinecone_matches])\n",
    "    prompt = f\"\"\"\n",
    "    Contexto relevante:\n",
    "    {context}\n",
    "\n",
    "    Pregunta:\n",
    "    {query}\n",
    "\n",
    "    Responde con información relevante al contexto y de forma concisa:\n",
    "    \"\"\"\n",
    "    return prompt\n",
    "\n",
    "def ask_groq(client, prompt, model=\"llama3-8b-8192\"):\n",
    "    \"\"\"\n",
    "    Envía el prompt a Groq y devuelve la respuesta.\n",
    "    \"\"\"\n",
    "    response = client.chat.completions.create(\n",
    "        messages=[{\"role\": \"user\", \"content\": prompt}],\n",
    "        model=model\n",
    "    )\n",
    "    return response.choices[0].message.content\n",
    "\n",
    "class Agente:\n",
    "    def __init__(self, nombre, indice):\n",
    "        self.nombre = nombre\n",
    "        self.indice = indice\n",
    "\n",
    "    def obtener_respuesta(self, query, embed_model):\n",
    "        \"\"\"\n",
    "        Obtiene la respuesta consultando Pinecone y generando un prompt para Groq\n",
    "        \"\"\"\n",
    "        # Obtener los resultados relevantes desde Pinecone\n",
    "        query_vector = embed_model.encode(query).tolist()\n",
    "        results = self.indice.query(vector=query_vector, top_k=5, include_metadata=True)\n",
    "        \n",
    "        # Crear el prompt para Groq\n",
    "        prompt = create_prompt(query, results[\"matches\"])\n",
    "        \n",
    "        # Obtener la respuesta de Groq\n",
    "        return ask_groq(groq_client, prompt)\n",
    "\n",
    "# Crear los agentes para Víctor y Jarad\n",
    "agente_victor = Agente(\"Victor\", indices[\"victor\"])\n",
    "agente_jarad = Agente(\"Jarad\", indices[\"jarad\"])"
   ]
  },
  {
   "cell_type": "markdown",
   "metadata": {},
   "source": [
    "## Creación de Decisor"
   ]
  },
  {
   "cell_type": "code",
   "execution_count": 7,
   "metadata": {},
   "outputs": [],
   "source": [
    "# Decisor para seleccionar el agente adecuado según la consulta\n",
    "def decisor(query):\n",
    "    \"\"\"\n",
    "    Según la query recibida, decide qué agente llamar.\n",
    "    \"\"\"\n",
    "    if re.search(r'Víctor|David|Silva', query, re.IGNORECASE):\n",
    "        return agente_victor\n",
    "    elif re.search(r'Jarad|Vod|Savo', query, re.IGNORECASE):\n",
    "        return agente_jarad\n",
    "    else:\n",
    "        return agente_victor\n",
    "\n",
    "def procesar_consulta(query, embed_model):\n",
    "    agente = decisor(query)\n",
    "    if agente:\n",
    "        respuesta = agente.obtener_respuesta(query, embed_model)\n",
    "        return respuesta\n",
    "    else:\n",
    "        respuesta = agente_victor.obtener_respuesta(query, embed_model)\n",
    "        return respuesta"
   ]
  },
  {
   "cell_type": "markdown",
   "metadata": {},
   "source": [
    "## Consultas"
   ]
  },
  {
   "cell_type": "code",
   "execution_count": 8,
   "metadata": {},
   "outputs": [
    {
     "name": "stdout",
     "output_type": "stream",
     "text": [
      "Consulta: ¿Quién es Víctor?\n",
      "Respuesta: Víctor es un ingeniero de IA y mecatronica, nacido en Mendoza, Argentina, con experiencia en IMPSA como ingeniero de IA desde julio de 2024. También es un especialista en inteligencia artificial y ha recibido varios premios y reconocimientos por su innovación y desempeño académico.\n",
      "\n"
     ]
    }
   ],
   "source": [
    "# Consulta\n",
    "query = \"¿Quién es Víctor?\"\n",
    "\n",
    "# Resultados\n",
    "respuesta = procesar_consulta(query, embed_model)\n",
    "\n",
    "print(f\"Consulta: {query}\")\n",
    "print(f\"Respuesta: {respuesta}\\n\")\n"
   ]
  },
  {
   "cell_type": "code",
   "execution_count": 9,
   "metadata": {},
   "outputs": [
    {
     "name": "stdout",
     "output_type": "stream",
     "text": [
      "Consulta: ¿Qué proyectos ha hecho con Human Machine Interface (HMI) Víctor?\n",
      "Respuesta: Según el contexto, Victor ha diseñado y desarrollado HMI para los siguientes proyectos:\n",
      "\n",
      "* Un sistema de grúas levantadoras para la Armada Argentina.\n",
      "* Un sistema de grúas overhead para una central nuclear.\n",
      "* Un butterfly valve en una central hidráulica.\n",
      "\n",
      "En resumen, Victor ha trabajado en tres proyectos con Human-Machine Interface (HMI).\n",
      "\n"
     ]
    }
   ],
   "source": [
    "# Consulta\n",
    "query = \"¿Qué proyectos ha hecho con Human Machine Interface (HMI) Víctor?\"\n",
    "\n",
    "# Resultados\n",
    "respuesta = procesar_consulta(query, embed_model)\n",
    "\n",
    "print(f\"Consulta: {query}\")\n",
    "print(f\"Respuesta: {respuesta}\\n\")\n"
   ]
  },
  {
   "cell_type": "code",
   "execution_count": 10,
   "metadata": {},
   "outputs": [
    {
     "name": "stdout",
     "output_type": "stream",
     "text": [
      "Consulta: ¿Qué lenguas conoce Víctor?\n",
      "Respuesta: Víctor conoce dos lenguas:\n",
      "\n",
      "1. Español (idioma nativo)\n",
      "2. Inglés (nivel B2)\n",
      "\n"
     ]
    }
   ],
   "source": [
    "# Consulta\n",
    "query = \"¿Qué lenguas conoce Víctor?\"\n",
    "\n",
    "# Resultados\n",
    "respuesta = procesar_consulta(query, embed_model)\n",
    "\n",
    "print(f\"Consulta: {query}\")\n",
    "print(f\"Respuesta: {respuesta}\\n\")\n"
   ]
  },
  {
   "cell_type": "code",
   "execution_count": 11,
   "metadata": {},
   "outputs": [
    {
     "name": "stdout",
     "output_type": "stream",
     "text": [
      "Consulta: ¿Quién es Jarad?\n",
      "Respuesta: Jarad es un desarrollador web profesional con experiencia en CodeCraftStudio en Córdoba, Argentina.\n",
      "\n"
     ]
    }
   ],
   "source": [
    "# Consulta\n",
    "query = \"¿Quién es Jarad?\"\n",
    "\n",
    "# Resultados\n",
    "respuesta = procesar_consulta(query, embed_model)\n",
    "\n",
    "print(f\"Consulta: {query}\")\n",
    "print(f\"Respuesta: {respuesta}\\n\")"
   ]
  },
  {
   "cell_type": "code",
   "execution_count": 12,
   "metadata": {},
   "outputs": [
    {
     "name": "stdout",
     "output_type": "stream",
     "text": [
      "Consulta: Dónde estudió Jarad?\n",
      "Respuesta: Jarad estudió en la Universidad Nacional de Córdoba, ubicada en Córdoba, Argentina, donde se graduó en Computer Technician en 2014.\n",
      "\n"
     ]
    }
   ],
   "source": [
    "# Consulta\n",
    "query = \"Dónde estudió Jarad?\"\n",
    "\n",
    "# Resultados\n",
    "respuesta = procesar_consulta(query, embed_model)\n",
    "\n",
    "print(f\"Consulta: {query}\")\n",
    "print(f\"Respuesta: {respuesta}\\n\")"
   ]
  },
  {
   "cell_type": "code",
   "execution_count": 13,
   "metadata": {},
   "outputs": [
    {
     "name": "stdout",
     "output_type": "stream",
     "text": [
      "Consulta: ¿Cuáles son sus skill?\n",
      "Respuesta: Según el contexto, los habilidades de Víctor David Silva son:\n",
      "\n",
      "* Lenguajes de programación: C/C++, Matlab, AtmelStudio (AVR) y Arduino.\n",
      "* Experiencia en:\n",
      "\t+ Ingeniería de procesos\n",
      "\t+ Simulación de procesos\n",
      "\t+ Soluciones eficientes para desafíos en bases de datos y sistemas SCADA\n",
      "\t+ Remota intervenición en planta de energía\n",
      "* Habilidades adicionales:\n",
      "\t+ Conocimientos en inteligencia artificial (Aprendizaje Automático)\n",
      "\t+ Certificaciones:\n",
      "\t\t- 3rdplace en el premio \"EmprendeU, Premio FUNC 2021 a la Innovación\"\n",
      "\t\t- 1stplace en el desafío internacional de simulación de procesos (2021)\n",
      "\t\t- Reconocimiento por rendimiento académico (2022)\n",
      "\t\t- 1stplace en el concurso de diseño y desarrollo de robots para aplicaciones productivas o de servicios (2021)\n",
      "\n"
     ]
    }
   ],
   "source": [
    "# Consulta\n",
    "query = \"¿Cuáles son sus skill?\"\n",
    "\n",
    "# Resultados\n",
    "respuesta = procesar_consulta(query, embed_model)\n",
    "\n",
    "print(f\"Consulta: {query}\")\n",
    "print(f\"Respuesta: {respuesta}\\n\")"
   ]
  }
 ],
 "metadata": {
  "kernelspec": {
   "display_name": "llmsiagenv",
   "language": "python",
   "name": "python3"
  },
  "language_info": {
   "codemirror_mode": {
    "name": "ipython",
    "version": 3
   },
   "file_extension": ".py",
   "mimetype": "text/x-python",
   "name": "python",
   "nbconvert_exporter": "python",
   "pygments_lexer": "ipython3",
   "version": "3.10.15"
  }
 },
 "nbformat": 4,
 "nbformat_minor": 2
}
